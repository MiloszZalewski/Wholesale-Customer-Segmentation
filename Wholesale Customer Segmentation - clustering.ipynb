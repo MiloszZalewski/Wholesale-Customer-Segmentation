{
 "cells": [
  {
   "cell_type": "markdown",
   "metadata": {},
   "source": [
    "# Wholesale Customer Segmentation"
   ]
  },
  {
   "cell_type": "markdown",
   "metadata": {},
   "source": [
    "Data I am going to use refers to clients of a wholesale distributor. It includes the annual spending in monetary units on diverse product categories. The aim of the project is to divide customers into groups with similar purchasing preferences. In order to do that I am going to use clustering algorithms. I decided to drop from data any information apart from purchasing preferences features. \n",
    "\n",
    "Source: UCI Machine Learning Repository"
   ]
  },
  {
   "cell_type": "markdown",
   "metadata": {},
   "source": [
    "Attribute Information:\n",
    "1) FRESH: annual spending (m.u.) on fresh products (Continuous);\n",
    "\n",
    "2) MILK: annual spending (m.u.) on milk products (Continuous);\n",
    "\n",
    "3) GROCERY: annual spending (m.u.) on grocery products (Continuous);\n",
    "\n",
    "4) FROZEN: annual spending (m.u.) on frozen products (Continuous)\n",
    "\n",
    "5) DETERGENTS_PAPER: annual spending (m.u.) on detergents and paper products (Continuous)\n",
    "\n",
    "6) DELICATESSEN: annual spending (m.u.) on and delicatessen products (Continuous);\n",
    "\n",
    "7) CHANNEL: customers Channel - Horeca (Hotel/Restaurant/Cafe) or Retail channel (Nominal)\n",
    "\n",
    "8) REGION: customers Region - Lisbon, Oporto or Other (Nominal)"
   ]
  },
  {
   "cell_type": "markdown",
   "metadata": {},
   "source": [
    "# Import libraries"
   ]
  },
  {
   "cell_type": "code",
   "execution_count": 1,
   "metadata": {},
   "outputs": [],
   "source": [
    "# Data processing\n",
    "import pandas as pd\n",
    "\n",
    "# Linear algebra\n",
    "import numpy as np\n",
    "\n",
    "# Statistics\n",
    "from scipy import stats\n",
    "\n",
    "# Data visualization\n",
    "import matplotlib.pyplot as plt\n",
    "%matplotlib inline\n",
    "import seaborn as sns\n",
    "\n",
    "# Data preprocessing\n",
    "from sklearn.preprocessing import StandardScaler\n",
    "\n",
    "# Algorithms\n",
    "from sklearn.cluster import KMeans\n",
    "from sklearn.cluster import DBSCAN\n",
    "from sklearn.decomposition import PCA\n",
    "from scipy.spatial.distance import pdist, squareform\n",
    "from scipy.cluster.hierarchy import linkage\n",
    "from scipy.cluster.hierarchy import dendrogram\n",
    "from scipy.cluster.hierarchy import fcluster\n",
    "\n",
    "# Scores\n",
    "from sklearn.metrics import silhouette_score\n",
    "\n",
    "import warnings\n",
    "warnings.filterwarnings('ignore')"
   ]
  },
  {
   "cell_type": "markdown",
   "metadata": {},
   "source": [
    "# Data exploration and preprocessing"
   ]
  },
  {
   "cell_type": "code",
   "execution_count": 2,
   "metadata": {},
   "outputs": [],
   "source": [
    "# Loading data\n",
    "\n",
    "data = pd.read_csv('Wholesale customers.csv')"
   ]
  },
  {
   "cell_type": "code",
   "execution_count": 3,
   "metadata": {},
   "outputs": [
    {
     "data": {
      "text/html": [
       "<div>\n",
       "<style scoped>\n",
       "    .dataframe tbody tr th:only-of-type {\n",
       "        vertical-align: middle;\n",
       "    }\n",
       "\n",
       "    .dataframe tbody tr th {\n",
       "        vertical-align: top;\n",
       "    }\n",
       "\n",
       "    .dataframe thead th {\n",
       "        text-align: right;\n",
       "    }\n",
       "</style>\n",
       "<table border=\"1\" class=\"dataframe\">\n",
       "  <thead>\n",
       "    <tr style=\"text-align: right;\">\n",
       "      <th></th>\n",
       "      <th>Channel</th>\n",
       "      <th>Region</th>\n",
       "      <th>Fresh</th>\n",
       "      <th>Milk</th>\n",
       "      <th>Grocery</th>\n",
       "      <th>Frozen</th>\n",
       "      <th>Detergents_Paper</th>\n",
       "      <th>Delicassen</th>\n",
       "    </tr>\n",
       "  </thead>\n",
       "  <tbody>\n",
       "    <tr>\n",
       "      <th>0</th>\n",
       "      <td>2</td>\n",
       "      <td>3</td>\n",
       "      <td>12669</td>\n",
       "      <td>9656</td>\n",
       "      <td>7561</td>\n",
       "      <td>214</td>\n",
       "      <td>2674</td>\n",
       "      <td>1338</td>\n",
       "    </tr>\n",
       "    <tr>\n",
       "      <th>1</th>\n",
       "      <td>2</td>\n",
       "      <td>3</td>\n",
       "      <td>7057</td>\n",
       "      <td>9810</td>\n",
       "      <td>9568</td>\n",
       "      <td>1762</td>\n",
       "      <td>3293</td>\n",
       "      <td>1776</td>\n",
       "    </tr>\n",
       "    <tr>\n",
       "      <th>2</th>\n",
       "      <td>2</td>\n",
       "      <td>3</td>\n",
       "      <td>6353</td>\n",
       "      <td>8808</td>\n",
       "      <td>7684</td>\n",
       "      <td>2405</td>\n",
       "      <td>3516</td>\n",
       "      <td>7844</td>\n",
       "    </tr>\n",
       "    <tr>\n",
       "      <th>3</th>\n",
       "      <td>1</td>\n",
       "      <td>3</td>\n",
       "      <td>13265</td>\n",
       "      <td>1196</td>\n",
       "      <td>4221</td>\n",
       "      <td>6404</td>\n",
       "      <td>507</td>\n",
       "      <td>1788</td>\n",
       "    </tr>\n",
       "    <tr>\n",
       "      <th>4</th>\n",
       "      <td>2</td>\n",
       "      <td>3</td>\n",
       "      <td>22615</td>\n",
       "      <td>5410</td>\n",
       "      <td>7198</td>\n",
       "      <td>3915</td>\n",
       "      <td>1777</td>\n",
       "      <td>5185</td>\n",
       "    </tr>\n",
       "    <tr>\n",
       "      <th>5</th>\n",
       "      <td>2</td>\n",
       "      <td>3</td>\n",
       "      <td>9413</td>\n",
       "      <td>8259</td>\n",
       "      <td>5126</td>\n",
       "      <td>666</td>\n",
       "      <td>1795</td>\n",
       "      <td>1451</td>\n",
       "    </tr>\n",
       "    <tr>\n",
       "      <th>6</th>\n",
       "      <td>2</td>\n",
       "      <td>3</td>\n",
       "      <td>12126</td>\n",
       "      <td>3199</td>\n",
       "      <td>6975</td>\n",
       "      <td>480</td>\n",
       "      <td>3140</td>\n",
       "      <td>545</td>\n",
       "    </tr>\n",
       "    <tr>\n",
       "      <th>7</th>\n",
       "      <td>2</td>\n",
       "      <td>3</td>\n",
       "      <td>7579</td>\n",
       "      <td>4956</td>\n",
       "      <td>9426</td>\n",
       "      <td>1669</td>\n",
       "      <td>3321</td>\n",
       "      <td>2566</td>\n",
       "    </tr>\n",
       "    <tr>\n",
       "      <th>8</th>\n",
       "      <td>1</td>\n",
       "      <td>3</td>\n",
       "      <td>5963</td>\n",
       "      <td>3648</td>\n",
       "      <td>6192</td>\n",
       "      <td>425</td>\n",
       "      <td>1716</td>\n",
       "      <td>750</td>\n",
       "    </tr>\n",
       "    <tr>\n",
       "      <th>9</th>\n",
       "      <td>2</td>\n",
       "      <td>3</td>\n",
       "      <td>6006</td>\n",
       "      <td>11093</td>\n",
       "      <td>18881</td>\n",
       "      <td>1159</td>\n",
       "      <td>7425</td>\n",
       "      <td>2098</td>\n",
       "    </tr>\n",
       "  </tbody>\n",
       "</table>\n",
       "</div>"
      ],
      "text/plain": [
       "   Channel  Region  Fresh   Milk  Grocery  Frozen  Detergents_Paper  \\\n",
       "0        2       3  12669   9656     7561     214              2674   \n",
       "1        2       3   7057   9810     9568    1762              3293   \n",
       "2        2       3   6353   8808     7684    2405              3516   \n",
       "3        1       3  13265   1196     4221    6404               507   \n",
       "4        2       3  22615   5410     7198    3915              1777   \n",
       "5        2       3   9413   8259     5126     666              1795   \n",
       "6        2       3  12126   3199     6975     480              3140   \n",
       "7        2       3   7579   4956     9426    1669              3321   \n",
       "8        1       3   5963   3648     6192     425              1716   \n",
       "9        2       3   6006  11093    18881    1159              7425   \n",
       "\n",
       "   Delicassen  \n",
       "0        1338  \n",
       "1        1776  \n",
       "2        7844  \n",
       "3        1788  \n",
       "4        5185  \n",
       "5        1451  \n",
       "6         545  \n",
       "7        2566  \n",
       "8         750  \n",
       "9        2098  "
      ]
     },
     "execution_count": 3,
     "metadata": {},
     "output_type": "execute_result"
    }
   ],
   "source": [
    "data.head(10)"
   ]
  },
  {
   "cell_type": "code",
   "execution_count": 4,
   "metadata": {},
   "outputs": [],
   "source": [
    "# Dropping unnecessary columns\n",
    "\n",
    "to_drop = ['Region', 'Channel']\n",
    "data.drop(to_drop, axis=1, inplace=True)"
   ]
  },
  {
   "cell_type": "code",
   "execution_count": 5,
   "metadata": {},
   "outputs": [],
   "source": [
    "# Changing small mistake in column names\n",
    "\n",
    "data = data.rename(columns={'Delicassen':'Delicatessen'})"
   ]
  },
  {
   "cell_type": "code",
   "execution_count": 6,
   "metadata": {},
   "outputs": [
    {
     "data": {
      "text/html": [
       "<div>\n",
       "<style scoped>\n",
       "    .dataframe tbody tr th:only-of-type {\n",
       "        vertical-align: middle;\n",
       "    }\n",
       "\n",
       "    .dataframe tbody tr th {\n",
       "        vertical-align: top;\n",
       "    }\n",
       "\n",
       "    .dataframe thead th {\n",
       "        text-align: right;\n",
       "    }\n",
       "</style>\n",
       "<table border=\"1\" class=\"dataframe\">\n",
       "  <thead>\n",
       "    <tr style=\"text-align: right;\">\n",
       "      <th></th>\n",
       "      <th>Fresh</th>\n",
       "      <th>Milk</th>\n",
       "      <th>Grocery</th>\n",
       "      <th>Frozen</th>\n",
       "      <th>Detergents_Paper</th>\n",
       "      <th>Delicatessen</th>\n",
       "    </tr>\n",
       "  </thead>\n",
       "  <tbody>\n",
       "    <tr>\n",
       "      <th>0</th>\n",
       "      <td>12669</td>\n",
       "      <td>9656</td>\n",
       "      <td>7561</td>\n",
       "      <td>214</td>\n",
       "      <td>2674</td>\n",
       "      <td>1338</td>\n",
       "    </tr>\n",
       "    <tr>\n",
       "      <th>1</th>\n",
       "      <td>7057</td>\n",
       "      <td>9810</td>\n",
       "      <td>9568</td>\n",
       "      <td>1762</td>\n",
       "      <td>3293</td>\n",
       "      <td>1776</td>\n",
       "    </tr>\n",
       "    <tr>\n",
       "      <th>2</th>\n",
       "      <td>6353</td>\n",
       "      <td>8808</td>\n",
       "      <td>7684</td>\n",
       "      <td>2405</td>\n",
       "      <td>3516</td>\n",
       "      <td>7844</td>\n",
       "    </tr>\n",
       "    <tr>\n",
       "      <th>3</th>\n",
       "      <td>13265</td>\n",
       "      <td>1196</td>\n",
       "      <td>4221</td>\n",
       "      <td>6404</td>\n",
       "      <td>507</td>\n",
       "      <td>1788</td>\n",
       "    </tr>\n",
       "    <tr>\n",
       "      <th>4</th>\n",
       "      <td>22615</td>\n",
       "      <td>5410</td>\n",
       "      <td>7198</td>\n",
       "      <td>3915</td>\n",
       "      <td>1777</td>\n",
       "      <td>5185</td>\n",
       "    </tr>\n",
       "    <tr>\n",
       "      <th>...</th>\n",
       "      <td>...</td>\n",
       "      <td>...</td>\n",
       "      <td>...</td>\n",
       "      <td>...</td>\n",
       "      <td>...</td>\n",
       "      <td>...</td>\n",
       "    </tr>\n",
       "    <tr>\n",
       "      <th>435</th>\n",
       "      <td>29703</td>\n",
       "      <td>12051</td>\n",
       "      <td>16027</td>\n",
       "      <td>13135</td>\n",
       "      <td>182</td>\n",
       "      <td>2204</td>\n",
       "    </tr>\n",
       "    <tr>\n",
       "      <th>436</th>\n",
       "      <td>39228</td>\n",
       "      <td>1431</td>\n",
       "      <td>764</td>\n",
       "      <td>4510</td>\n",
       "      <td>93</td>\n",
       "      <td>2346</td>\n",
       "    </tr>\n",
       "    <tr>\n",
       "      <th>437</th>\n",
       "      <td>14531</td>\n",
       "      <td>15488</td>\n",
       "      <td>30243</td>\n",
       "      <td>437</td>\n",
       "      <td>14841</td>\n",
       "      <td>1867</td>\n",
       "    </tr>\n",
       "    <tr>\n",
       "      <th>438</th>\n",
       "      <td>10290</td>\n",
       "      <td>1981</td>\n",
       "      <td>2232</td>\n",
       "      <td>1038</td>\n",
       "      <td>168</td>\n",
       "      <td>2125</td>\n",
       "    </tr>\n",
       "    <tr>\n",
       "      <th>439</th>\n",
       "      <td>2787</td>\n",
       "      <td>1698</td>\n",
       "      <td>2510</td>\n",
       "      <td>65</td>\n",
       "      <td>477</td>\n",
       "      <td>52</td>\n",
       "    </tr>\n",
       "  </tbody>\n",
       "</table>\n",
       "<p>440 rows × 6 columns</p>\n",
       "</div>"
      ],
      "text/plain": [
       "     Fresh   Milk  Grocery  Frozen  Detergents_Paper  Delicatessen\n",
       "0    12669   9656     7561     214              2674          1338\n",
       "1     7057   9810     9568    1762              3293          1776\n",
       "2     6353   8808     7684    2405              3516          7844\n",
       "3    13265   1196     4221    6404               507          1788\n",
       "4    22615   5410     7198    3915              1777          5185\n",
       "..     ...    ...      ...     ...               ...           ...\n",
       "435  29703  12051    16027   13135               182          2204\n",
       "436  39228   1431      764    4510                93          2346\n",
       "437  14531  15488    30243     437             14841          1867\n",
       "438  10290   1981     2232    1038               168          2125\n",
       "439   2787   1698     2510      65               477            52\n",
       "\n",
       "[440 rows x 6 columns]"
      ]
     },
     "execution_count": 6,
     "metadata": {},
     "output_type": "execute_result"
    }
   ],
   "source": [
    "# Dropping duplicates\n",
    "\n",
    "data.drop_duplicates()"
   ]
  },
  {
   "cell_type": "markdown",
   "metadata": {},
   "source": [
    "I will make stats function to get some basic knowledge about data."
   ]
  },
  {
   "cell_type": "code",
   "execution_count": 7,
   "metadata": {},
   "outputs": [
    {
     "name": "stdout",
     "output_type": "stream",
     "text": [
      "Data shape:\n",
      " (440, 6)\n",
      "------------------------------------------------------------\n",
      "\n",
      "Data description:\n",
      " \n",
      "                Fresh          Milk       Grocery        Frozen  \\\n",
      "count     440.000000    440.000000    440.000000    440.000000   \n",
      "mean    12000.297727   5796.265909   7951.277273   3071.931818   \n",
      "std     12647.328865   7380.377175   9503.162829   4854.673333   \n",
      "min         3.000000     55.000000      3.000000     25.000000   \n",
      "25%      3127.750000   1533.000000   2153.000000    742.250000   \n",
      "50%      8504.000000   3627.000000   4755.500000   1526.000000   \n",
      "75%     16933.750000   7190.250000  10655.750000   3554.250000   \n",
      "max    112151.000000  73498.000000  92780.000000  60869.000000   \n",
      "\n",
      "       Detergents_Paper  Delicatessen  \n",
      "count        440.000000    440.000000  \n",
      "mean        2881.493182   1524.870455  \n",
      "std         4767.854448   2820.105937  \n",
      "min            3.000000      3.000000  \n",
      "25%          256.750000    408.250000  \n",
      "50%          816.500000    965.500000  \n",
      "75%         3922.000000   1820.250000  \n",
      "max        40827.000000  47943.000000  \n",
      "------------------------------------------------------------\n",
      "\n",
      "Types of data:\n",
      " \n",
      " Fresh               int64\n",
      "Milk                int64\n",
      "Grocery             int64\n",
      "Frozen              int64\n",
      "Detergents_Paper    int64\n",
      "Delicatessen        int64\n",
      "dtype: object\n",
      "------------------------------------------------------------\n",
      "\n",
      "Quantity of NaN's:\n",
      " \n",
      " Fresh               0\n",
      "Milk                0\n",
      "Grocery             0\n",
      "Frozen              0\n",
      "Detergents_Paper    0\n",
      "Delicatessen        0\n",
      "dtype: int64\n",
      "------------------------------------------------------------\n"
     ]
    }
   ],
   "source": [
    "def stats(df):\n",
    "    '''Function displays shape, basic description, types of data and quantity of NaN's.\n",
    "    '''\n",
    "    print('Data shape:\\n', data.shape)\n",
    "    print(60*'-')\n",
    "    print()\n",
    "    print('Data description:\\n \\n', data.describe())\n",
    "    print(60*'-')\n",
    "    print()\n",
    "    print('Types of data:\\n \\n', data.dtypes)\n",
    "    print(60*'-')\n",
    "    print()\n",
    "    print(\"Quantity of NaN's:\\n \\n\", data.isnull().sum())\n",
    "    print(60*'-')\n",
    "    \n",
    "stats(data)"
   ]
  },
  {
   "cell_type": "markdown",
   "metadata": {},
   "source": [
    "I will create function to display chart of all features."
   ]
  },
  {
   "cell_type": "code",
   "execution_count": 8,
   "metadata": {},
   "outputs": [
    {
     "name": "stdout",
     "output_type": "stream",
     "text": [
      "------------------------------------------------------------------------------------------------------------------------------------------------------------------------------------------------------------------------------------------------\n"
     ]
    },
    {
     "data": {
      "image/png": "[encoded data removed]",
      "text/plain": [
       "<Figure size 432x288 with 1 Axes>"
      ]
     },
     "metadata": {
      "needs_background": "light"
     },
     "output_type": "display_data"
    },
    {
     "data": {
      "image/png": "[encoded data removed]",
      "text/plain": [
       "<Figure size 432x288 with 1 Axes>"
      ]
     },
     "metadata": {
      "needs_background": "light"
     },
     "output_type": "display_data"
    },
    {
     "name": "stdout",
     "output_type": "stream",
     "text": [
      "------------------------------------------------------------------------------------------------------------------------------------------------------------------------------------------------------------------------------------------------\n"
     ]
    },
    {
     "data": {
      "image/png": "[encoded data removed]",
      "text/plain": [
       "<Figure size 432x288 with 1 Axes>"
      ]
     },
     "metadata": {
      "needs_background": "light"
     },
     "output_type": "display_data"
    },
    {
     "data": {
      "image/png": "[encoded data removed]",
      "text/plain": [
       "<Figure size 432x288 with 1 Axes>"
      ]
     },
     "metadata": {
      "needs_background": "light"
     },
     "output_type": "display_data"
    },
    {
     "name": "stdout",
     "output_type": "stream",
     "text": [
      "------------------------------------------------------------------------------------------------------------------------------------------------------------------------------------------------------------------------------------------------\n"
     ]
    },
    {
     "data": {
      "image/png": "[encoded data removed]",
      "text/plain": [
       "<Figure size 432x288 with 1 Axes>"
      ]
     },
     "metadata": {
      "needs_background": "light"
     },
     "output_type": "display_data"
    },
    {
     "data": {
      "image/png": "[encoded data removed]",
      "text/plain": [
       "<Figure size 432x288 with 1 Axes>"
      ]
     },
     "metadata": {
      "needs_background": "light"
     },
     "output_type": "display_data"
    },
    {
     "name": "stdout",
     "output_type": "stream",
     "text": [
      "------------------------------------------------------------------------------------------------------------------------------------------------------------------------------------------------------------------------------------------------\n"
     ]
    },
    {
     "data": {
      "image/png": "[encoded data removed]",
      "text/plain": [
       "<Figure size 432x288 with 1 Axes>"
      ]
     },
     "metadata": {
      "needs_background": "light"
     },
     "output_type": "display_data"
    },
    {
     "data": {
      "image/png": "[encoded data removed]",
      "text/plain": [
       "<Figure size 432x288 with 1 Axes>"
      ]
     },
     "metadata": {
      "needs_background": "light"
     },
     "output_type": "display_data"
    },
    {
     "name": "stdout",
     "output_type": "stream",
     "text": [
      "------------------------------------------------------------------------------------------------------------------------------------------------------------------------------------------------------------------------------------------------\n"
     ]
    },
    {
     "data": {
      "image/png": "[encoded data removed]",
      "text/plain": [
       "<Figure size 432x288 with 1 Axes>"
      ]
     },
     "metadata": {
      "needs_background": "light"
     },
     "output_type": "display_data"
    },
    {
     "data": {
      "image/png": "[encoded data removed]",
      "text/plain": [
       "<Figure size 432x288 with 1 Axes>"
      ]
     },
     "metadata": {
      "needs_background": "light"
     },
     "output_type": "display_data"
    },
    {
     "name": "stdout",
     "output_type": "stream",
     "text": [
      "------------------------------------------------------------------------------------------------------------------------------------------------------------------------------------------------------------------------------------------------\n"
     ]
    },
    {
     "data": {
      "image/png": "[encoded data removed]",
      "text/plain": [
       "<Figure size 432x288 with 1 Axes>"
      ]
     },
     "metadata": {
      "needs_background": "light"
     },
     "output_type": "display_data"
    },
    {
     "data": {
      "image/png": "[encoded data removed]",
      "text/plain": [
       "<Figure size 432x288 with 1 Axes>"
      ]
     },
     "metadata": {
      "needs_background": "light"
     },
     "output_type": "display_data"
    }
   ],
   "source": [
    "def features(df):\n",
    "    '''This function iterate all the columns and display histogram and boxplot of every feature in dataset.\n",
    "    '''\n",
    "    for i in data.columns:         \n",
    "        print('--'*120)     \n",
    "        plt.hist(data[i])\n",
    "        plt.title(str(i))\n",
    "        plt.show()\n",
    "        sns.boxplot(data[i])\n",
    "        plt.title(str(i))\n",
    "        plt.show()\n",
    "\n",
    "features(data)"
   ]
  },
  {
   "cell_type": "code",
   "execution_count": null,
   "metadata": {},
   "outputs": [],
   "source": []
  },
  {
   "cell_type": "markdown",
   "metadata": {},
   "source": [
    "We can observe a lot of outliers and big skew. I am going to count basics statistics of features like skew, kurtosis, mean and median."
   ]
  },
  {
   "cell_type": "code",
   "execution_count": 9,
   "metadata": {},
   "outputs": [],
   "source": [
    "columns = data.keys()"
   ]
  },
  {
   "cell_type": "code",
   "execution_count": 10,
   "metadata": {},
   "outputs": [
    {
     "name": "stdout",
     "output_type": "stream",
     "text": [
      "Fresh\n",
      "Skewness is: \n",
      " 2.561322751927935\n",
      "\n",
      "Kurtosis is: \n",
      " 11.536408493056006\n",
      "\n",
      "Mean is: \n",
      " 12000.297727272728\n",
      "\n",
      "Median is: \n",
      " 8504.0\n",
      "\n",
      "Milk\n",
      "Skewness is: \n",
      " 4.053754849210881\n",
      "\n",
      "Kurtosis is: \n",
      " 24.669397750673077\n",
      "\n",
      "Mean is: \n",
      " 5796.265909090909\n",
      "\n",
      "Median is: \n",
      " 3627.0\n",
      "\n",
      "Grocery\n",
      "Skewness is: \n",
      " 3.5874286903915453\n",
      "\n",
      "Kurtosis is: \n",
      " 20.914670390919653\n",
      "\n",
      "Mean is: \n",
      " 7951.277272727273\n",
      "\n",
      "Median is: \n",
      " 4755.5\n",
      "\n",
      "Frozen\n",
      "Skewness is: \n",
      " 5.9079856924559575\n",
      "\n",
      "Kurtosis is: \n",
      " 54.68928069737255\n",
      "\n",
      "Mean is: \n",
      " 3071.931818181818\n",
      "\n",
      "Median is: \n",
      " 1526.0\n",
      "\n",
      "Detergents_Paper\n",
      "Skewness is: \n",
      " 3.6318506306913645\n",
      "\n",
      "Kurtosis is: \n",
      " 19.009464335418212\n",
      "\n",
      "Mean is: \n",
      " 2881.4931818181817\n",
      "\n",
      "Median is: \n",
      " 816.5\n",
      "\n",
      "Delicatessen\n",
      "Skewness is: \n",
      " 11.151586478906117\n",
      "\n",
      "Kurtosis is: \n",
      " 170.69493933454066\n",
      "\n",
      "Mean is: \n",
      " 1524.8704545454545\n",
      "\n",
      "Median is: \n",
      " 965.5\n",
      "\n"
     ]
    }
   ],
   "source": [
    "def distributions(df):\n",
    "    '''Function checks skew, kurtosis, median and mean.\n",
    "    '''\n",
    "    for i in columns:\n",
    "        print(i)\n",
    "        print('Skewness is: \\n',data[i].skew())\n",
    "        print()\n",
    "        print('Kurtosis is: \\n',data[i].kurtosis())\n",
    "        print()\n",
    "        print('Mean is: \\n',data[i].mean())\n",
    "        print()\n",
    "        print('Median is: \\n',data[i].median())\n",
    "        print()\n",
    "        \n",
    "distributions(data)"
   ]
  },
  {
   "cell_type": "markdown",
   "metadata": {},
   "source": [
    "As we can observe distributions of features are characterized by big skewness."
   ]
  },
  {
   "cell_type": "markdown",
   "metadata": {},
   "source": [
    "Checking relationships between variables using correlation heatmap:"
   ]
  },
  {
   "cell_type": "code",
   "execution_count": 11,
   "metadata": {},
   "outputs": [
    {
     "data": {
      "text/html": [
       "<div>\n",
       "<style scoped>\n",
       "    .dataframe tbody tr th:only-of-type {\n",
       "        vertical-align: middle;\n",
       "    }\n",
       "\n",
       "    .dataframe tbody tr th {\n",
       "        vertical-align: top;\n",
       "    }\n",
       "\n",
       "    .dataframe thead th {\n",
       "        text-align: right;\n",
       "    }\n",
       "</style>\n",
       "<table border=\"1\" class=\"dataframe\">\n",
       "  <thead>\n",
       "    <tr style=\"text-align: right;\">\n",
       "      <th></th>\n",
       "      <th>Fresh</th>\n",
       "      <th>Milk</th>\n",
       "      <th>Grocery</th>\n",
       "      <th>Frozen</th>\n",
       "      <th>Detergents_Paper</th>\n",
       "      <th>Delicatessen</th>\n",
       "    </tr>\n",
       "  </thead>\n",
       "  <tbody>\n",
       "    <tr>\n",
       "      <th>Fresh</th>\n",
       "      <td>1.000000</td>\n",
       "      <td>0.100510</td>\n",
       "      <td>-0.011854</td>\n",
       "      <td>0.345881</td>\n",
       "      <td>-0.101953</td>\n",
       "      <td>0.244690</td>\n",
       "    </tr>\n",
       "    <tr>\n",
       "      <th>Milk</th>\n",
       "      <td>0.100510</td>\n",
       "      <td>1.000000</td>\n",
       "      <td>0.728335</td>\n",
       "      <td>0.123994</td>\n",
       "      <td>0.661816</td>\n",
       "      <td>0.406368</td>\n",
       "    </tr>\n",
       "    <tr>\n",
       "      <th>Grocery</th>\n",
       "      <td>-0.011854</td>\n",
       "      <td>0.728335</td>\n",
       "      <td>1.000000</td>\n",
       "      <td>-0.040193</td>\n",
       "      <td>0.924641</td>\n",
       "      <td>0.205497</td>\n",
       "    </tr>\n",
       "    <tr>\n",
       "      <th>Frozen</th>\n",
       "      <td>0.345881</td>\n",
       "      <td>0.123994</td>\n",
       "      <td>-0.040193</td>\n",
       "      <td>1.000000</td>\n",
       "      <td>-0.131525</td>\n",
       "      <td>0.390947</td>\n",
       "    </tr>\n",
       "    <tr>\n",
       "      <th>Detergents_Paper</th>\n",
       "      <td>-0.101953</td>\n",
       "      <td>0.661816</td>\n",
       "      <td>0.924641</td>\n",
       "      <td>-0.131525</td>\n",
       "      <td>1.000000</td>\n",
       "      <td>0.069291</td>\n",
       "    </tr>\n",
       "    <tr>\n",
       "      <th>Delicatessen</th>\n",
       "      <td>0.244690</td>\n",
       "      <td>0.406368</td>\n",
       "      <td>0.205497</td>\n",
       "      <td>0.390947</td>\n",
       "      <td>0.069291</td>\n",
       "      <td>1.000000</td>\n",
       "    </tr>\n",
       "  </tbody>\n",
       "</table>\n",
       "</div>"
      ],
      "text/plain": [
       "                     Fresh      Milk   Grocery    Frozen  Detergents_Paper  \\\n",
       "Fresh             1.000000  0.100510 -0.011854  0.345881         -0.101953   \n",
       "Milk              0.100510  1.000000  0.728335  0.123994          0.661816   \n",
       "Grocery          -0.011854  0.728335  1.000000 -0.040193          0.924641   \n",
       "Frozen            0.345881  0.123994 -0.040193  1.000000         -0.131525   \n",
       "Detergents_Paper -0.101953  0.661816  0.924641 -0.131525          1.000000   \n",
       "Delicatessen      0.244690  0.406368  0.205497  0.390947          0.069291   \n",
       "\n",
       "                  Delicatessen  \n",
       "Fresh                 0.244690  \n",
       "Milk                  0.406368  \n",
       "Grocery               0.205497  \n",
       "Frozen                0.390947  \n",
       "Detergents_Paper      0.069291  \n",
       "Delicatessen          1.000000  "
      ]
     },
     "execution_count": 11,
     "metadata": {},
     "output_type": "execute_result"
    }
   ],
   "source": [
    "data.corr()"
   ]
  },
  {
   "cell_type": "code",
   "execution_count": 12,
   "metadata": {},
   "outputs": [
    {
     "data": {
      "image/png": "[encoded data removed]",
      "text/plain": [
       "<Figure size 864x720 with 2 Axes>"
      ]
     },
     "metadata": {
      "needs_background": "light"
     },
     "output_type": "display_data"
    }
   ],
   "source": [
    "fig, ax = plt.subplots(figsize=(12,10))\n",
    "sns.heatmap(data.corr(), cmap=sns.diverging_palette(220,10), ax=ax, annot=True, linewidths=0.1,\n",
    "                                                   vmax=1.0, linecolor='white')\n",
    "plt.show()"
   ]
  },
  {
   "cell_type": "markdown",
   "metadata": {},
   "source": [
    "The biggest correlation is between Milk, Grocery and Detergents Paper. In order simplify dataset I will drop \"Grocery\" and \"Detergents_Paper\""
   ]
  },
  {
   "cell_type": "code",
   "execution_count": 13,
   "metadata": {},
   "outputs": [],
   "source": [
    "to_drop = ['Grocery','Detergents_Paper']\n",
    "data = data.drop(to_drop, axis=1)"
   ]
  },
  {
   "cell_type": "code",
   "execution_count": 14,
   "metadata": {},
   "outputs": [
    {
     "data": {
      "text/html": [
       "<div>\n",
       "<style scoped>\n",
       "    .dataframe tbody tr th:only-of-type {\n",
       "        vertical-align: middle;\n",
       "    }\n",
       "\n",
       "    .dataframe tbody tr th {\n",
       "        vertical-align: top;\n",
       "    }\n",
       "\n",
       "    .dataframe thead th {\n",
       "        text-align: right;\n",
       "    }\n",
       "</style>\n",
       "<table border=\"1\" class=\"dataframe\">\n",
       "  <thead>\n",
       "    <tr style=\"text-align: right;\">\n",
       "      <th></th>\n",
       "      <th>Fresh</th>\n",
       "      <th>Milk</th>\n",
       "      <th>Frozen</th>\n",
       "      <th>Delicatessen</th>\n",
       "    </tr>\n",
       "  </thead>\n",
       "  <tbody>\n",
       "    <tr>\n",
       "      <th>0</th>\n",
       "      <td>12669</td>\n",
       "      <td>9656</td>\n",
       "      <td>214</td>\n",
       "      <td>1338</td>\n",
       "    </tr>\n",
       "    <tr>\n",
       "      <th>1</th>\n",
       "      <td>7057</td>\n",
       "      <td>9810</td>\n",
       "      <td>1762</td>\n",
       "      <td>1776</td>\n",
       "    </tr>\n",
       "    <tr>\n",
       "      <th>2</th>\n",
       "      <td>6353</td>\n",
       "      <td>8808</td>\n",
       "      <td>2405</td>\n",
       "      <td>7844</td>\n",
       "    </tr>\n",
       "    <tr>\n",
       "      <th>3</th>\n",
       "      <td>13265</td>\n",
       "      <td>1196</td>\n",
       "      <td>6404</td>\n",
       "      <td>1788</td>\n",
       "    </tr>\n",
       "    <tr>\n",
       "      <th>4</th>\n",
       "      <td>22615</td>\n",
       "      <td>5410</td>\n",
       "      <td>3915</td>\n",
       "      <td>5185</td>\n",
       "    </tr>\n",
       "  </tbody>\n",
       "</table>\n",
       "</div>"
      ],
      "text/plain": [
       "   Fresh  Milk  Frozen  Delicatessen\n",
       "0  12669  9656     214          1338\n",
       "1   7057  9810    1762          1776\n",
       "2   6353  8808    2405          7844\n",
       "3  13265  1196    6404          1788\n",
       "4  22615  5410    3915          5185"
      ]
     },
     "execution_count": 14,
     "metadata": {},
     "output_type": "execute_result"
    }
   ],
   "source": [
    "data.head()"
   ]
  },
  {
   "cell_type": "code",
   "execution_count": 15,
   "metadata": {},
   "outputs": [],
   "source": [
    "# Making copy of original data for visualization purposes\n",
    "\n",
    "original_data = data.copy()"
   ]
  },
  {
   "cell_type": "markdown",
   "metadata": {},
   "source": [
    "To deal with a problem with skew I will logarithm data."
   ]
  },
  {
   "cell_type": "code",
   "execution_count": 16,
   "metadata": {},
   "outputs": [
    {
     "data": {
      "text/html": [
       "<div>\n",
       "<style scoped>\n",
       "    .dataframe tbody tr th:only-of-type {\n",
       "        vertical-align: middle;\n",
       "    }\n",
       "\n",
       "    .dataframe tbody tr th {\n",
       "        vertical-align: top;\n",
       "    }\n",
       "\n",
       "    .dataframe thead th {\n",
       "        text-align: right;\n",
       "    }\n",
       "</style>\n",
       "<table border=\"1\" class=\"dataframe\">\n",
       "  <thead>\n",
       "    <tr style=\"text-align: right;\">\n",
       "      <th></th>\n",
       "      <th>Fresh</th>\n",
       "      <th>Milk</th>\n",
       "      <th>Frozen</th>\n",
       "      <th>Delicatessen</th>\n",
       "    </tr>\n",
       "  </thead>\n",
       "  <tbody>\n",
       "    <tr>\n",
       "      <th>0</th>\n",
       "      <td>9.446913</td>\n",
       "      <td>9.175335</td>\n",
       "      <td>5.365976</td>\n",
       "      <td>7.198931</td>\n",
       "    </tr>\n",
       "    <tr>\n",
       "      <th>1</th>\n",
       "      <td>8.861775</td>\n",
       "      <td>9.191158</td>\n",
       "      <td>7.474205</td>\n",
       "      <td>7.482119</td>\n",
       "    </tr>\n",
       "    <tr>\n",
       "      <th>2</th>\n",
       "      <td>8.756682</td>\n",
       "      <td>9.083416</td>\n",
       "      <td>7.785305</td>\n",
       "      <td>8.967504</td>\n",
       "    </tr>\n",
       "    <tr>\n",
       "      <th>3</th>\n",
       "      <td>9.492884</td>\n",
       "      <td>7.086738</td>\n",
       "      <td>8.764678</td>\n",
       "      <td>7.488853</td>\n",
       "    </tr>\n",
       "    <tr>\n",
       "      <th>4</th>\n",
       "      <td>10.026369</td>\n",
       "      <td>8.596004</td>\n",
       "      <td>8.272571</td>\n",
       "      <td>8.553525</td>\n",
       "    </tr>\n",
       "  </tbody>\n",
       "</table>\n",
       "</div>"
      ],
      "text/plain": [
       "       Fresh      Milk    Frozen  Delicatessen\n",
       "0   9.446913  9.175335  5.365976      7.198931\n",
       "1   8.861775  9.191158  7.474205      7.482119\n",
       "2   8.756682  9.083416  7.785305      8.967504\n",
       "3   9.492884  7.086738  8.764678      7.488853\n",
       "4  10.026369  8.596004  8.272571      8.553525"
      ]
     },
     "execution_count": 16,
     "metadata": {},
     "output_type": "execute_result"
    }
   ],
   "source": [
    "log_data = np.log(data)\n",
    "log_data.head()"
   ]
  },
  {
   "cell_type": "markdown",
   "metadata": {},
   "source": [
    "Next step is to detect and remove outliers."
   ]
  },
  {
   "cell_type": "code",
   "execution_count": 17,
   "metadata": {},
   "outputs": [],
   "source": [
    "def outliers(data):\n",
    "    '''This function was created in order to remove outliers \n",
    "    and use interquartile range (IQR.\n",
    "    '''\n",
    "    for i in list(data):\n",
    "        IQR = np.percentile(data[i],75) - np.percentile(data[i],25)\n",
    "        Outlier_top = np.percentile(data[i],75) + 1.5*IQR\n",
    "        Outlier_bottom = np.percentile(data[i],25) - 1.5*IQR\n",
    "        log_data[i] = np.where(data[i] > Outlier_top,Outlier_top,data[i])\n",
    "        log_data[i] = np.where(data[i] < Outlier_bottom,Outlier_bottom,data[i])\n",
    "\n",
    "outliers(log_data)"
   ]
  },
  {
   "cell_type": "code",
   "execution_count": 18,
   "metadata": {},
   "outputs": [
    {
     "data": {
      "text/html": [
       "<div>\n",
       "<style scoped>\n",
       "    .dataframe tbody tr th:only-of-type {\n",
       "        vertical-align: middle;\n",
       "    }\n",
       "\n",
       "    .dataframe tbody tr th {\n",
       "        vertical-align: top;\n",
       "    }\n",
       "\n",
       "    .dataframe thead th {\n",
       "        text-align: right;\n",
       "    }\n",
       "</style>\n",
       "<table border=\"1\" class=\"dataframe\">\n",
       "  <thead>\n",
       "    <tr style=\"text-align: right;\">\n",
       "      <th></th>\n",
       "      <th>Fresh</th>\n",
       "      <th>Milk</th>\n",
       "      <th>Frozen</th>\n",
       "      <th>Delicatessen</th>\n",
       "    </tr>\n",
       "  </thead>\n",
       "  <tbody>\n",
       "    <tr>\n",
       "      <th>0</th>\n",
       "      <td>9.446913</td>\n",
       "      <td>9.175335</td>\n",
       "      <td>5.365976</td>\n",
       "      <td>7.198931</td>\n",
       "    </tr>\n",
       "    <tr>\n",
       "      <th>1</th>\n",
       "      <td>8.861775</td>\n",
       "      <td>9.191158</td>\n",
       "      <td>7.474205</td>\n",
       "      <td>7.482119</td>\n",
       "    </tr>\n",
       "    <tr>\n",
       "      <th>2</th>\n",
       "      <td>8.756682</td>\n",
       "      <td>9.083416</td>\n",
       "      <td>7.785305</td>\n",
       "      <td>8.967504</td>\n",
       "    </tr>\n",
       "    <tr>\n",
       "      <th>3</th>\n",
       "      <td>9.492884</td>\n",
       "      <td>7.086738</td>\n",
       "      <td>8.764678</td>\n",
       "      <td>7.488853</td>\n",
       "    </tr>\n",
       "    <tr>\n",
       "      <th>4</th>\n",
       "      <td>10.026369</td>\n",
       "      <td>8.596004</td>\n",
       "      <td>8.272571</td>\n",
       "      <td>8.553525</td>\n",
       "    </tr>\n",
       "  </tbody>\n",
       "</table>\n",
       "</div>"
      ],
      "text/plain": [
       "       Fresh      Milk    Frozen  Delicatessen\n",
       "0   9.446913  9.175335  5.365976      7.198931\n",
       "1   8.861775  9.191158  7.474205      7.482119\n",
       "2   8.756682  9.083416  7.785305      8.967504\n",
       "3   9.492884  7.086738  8.764678      7.488853\n",
       "4  10.026369  8.596004  8.272571      8.553525"
      ]
     },
     "execution_count": 18,
     "metadata": {},
     "output_type": "execute_result"
    }
   ],
   "source": [
    "log_data.head()"
   ]
  },
  {
   "cell_type": "markdown",
   "metadata": {},
   "source": [
    "Check once again features to be sure we don't have outliers anymore."
   ]
  },
  {
   "cell_type": "code",
   "execution_count": 19,
   "metadata": {},
   "outputs": [
    {
     "name": "stdout",
     "output_type": "stream",
     "text": [
      "------------------------------------------------------------------------------------------------------------------------------------------------------------------------------------------------------------------------------------------------\n"
     ]
    },
    {
     "data": {
      "image/png": "[encoded data removed]",
      "text/plain": [
       "<Figure size 432x288 with 1 Axes>"
      ]
     },
     "metadata": {
      "needs_background": "light"
     },
     "output_type": "display_data"
    },
    {
     "data": {
      "image/png": "[encoded data removed]",
      "text/plain": [
       "<Figure size 432x288 with 1 Axes>"
      ]
     },
     "metadata": {
      "needs_background": "light"
     },
     "output_type": "display_data"
    },
    {
     "name": "stdout",
     "output_type": "stream",
     "text": [
      "------------------------------------------------------------------------------------------------------------------------------------------------------------------------------------------------------------------------------------------------\n"
     ]
    },
    {
     "data": {
      "image/png": "[encoded data removed]",
      "text/plain": [
       "<Figure size 432x288 with 1 Axes>"
      ]
     },
     "metadata": {
      "needs_background": "light"
     },
     "output_type": "display_data"
    },
    {
     "data": {
      "image/png": "[encoded data removed]",
      "text/plain": [
       "<Figure size 432x288 with 1 Axes>"
      ]
     },
     "metadata": {
      "needs_background": "light"
     },
     "output_type": "display_data"
    },
    {
     "name": "stdout",
     "output_type": "stream",
     "text": [
      "------------------------------------------------------------------------------------------------------------------------------------------------------------------------------------------------------------------------------------------------\n"
     ]
    },
    {
     "data": {
      "image/png": "[encoded data removed]",
      "text/plain": [
       "<Figure size 432x288 with 1 Axes>"
      ]
     },
     "metadata": {
      "needs_background": "light"
     },
     "output_type": "display_data"
    },
    {
     "data": {
      "image/png": "[encoded data removed]",
      "text/plain": [
       "<Figure size 432x288 with 1 Axes>"
      ]
     },
     "metadata": {
      "needs_background": "light"
     },
     "output_type": "display_data"
    },
    {
     "name": "stdout",
     "output_type": "stream",
     "text": [
      "------------------------------------------------------------------------------------------------------------------------------------------------------------------------------------------------------------------------------------------------\n"
     ]
    },
    {
     "data": {
      "image/png": "[encoded data removed]",
      "text/plain": [
       "<Figure size 432x288 with 1 Axes>"
      ]
     },
     "metadata": {
      "needs_background": "light"
     },
     "output_type": "display_data"
    },
    {
     "data": {
      "image/png": "[encoded data removed]",
      "text/plain": [
       "<Figure size 432x288 with 1 Axes>"
      ]
     },
     "metadata": {
      "needs_background": "light"
     },
     "output_type": "display_data"
    }
   ],
   "source": [
    "def features(df):\n",
    "    '''This function iterate all the columns and display histogram and boxplot of every feature in dataset.\n",
    "    '''\n",
    "    for i in log_data.columns:\n",
    "        print('--'*120)     \n",
    "        plt.hist(log_data[i])\n",
    "        plt.title(str(i))\n",
    "        plt.show()\n",
    "        sns.boxplot(log_data[i])\n",
    "        plt.title(str(i))\n",
    "        plt.show()\n",
    "        \n",
    "features(log_data)"
   ]
  },
  {
   "cell_type": "markdown",
   "metadata": {},
   "source": [
    "One more look at relations between features using pairplot function."
   ]
  },
  {
   "cell_type": "code",
   "execution_count": 20,
   "metadata": {},
   "outputs": [
    {
     "data": {
      "image/png": "[encoded data removed]",
      "text/plain": [
       "<Figure size 518.4x518.4 with 20 Axes>"
      ]
     },
     "metadata": {
      "needs_background": "light"
     },
     "output_type": "display_data"
    }
   ],
   "source": [
    "sns.pairplot(log_data, diag_kind='kde',height=1.8)\n",
    "plt.show()"
   ]
  },
  {
   "cell_type": "markdown",
   "metadata": {},
   "source": [
    "# Feature engineering"
   ]
  },
  {
   "cell_type": "markdown",
   "metadata": {},
   "source": [
    "I will standarize data in order to prepare for clustering algorithms."
   ]
  },
  {
   "cell_type": "code",
   "execution_count": 21,
   "metadata": {},
   "outputs": [],
   "source": [
    "scaler = StandardScaler()\n",
    "scaled_data = scaler.fit_transform(log_data)"
   ]
  },
  {
   "cell_type": "code",
   "execution_count": 22,
   "metadata": {},
   "outputs": [
    {
     "data": {
      "text/html": [
       "<div>\n",
       "<style scoped>\n",
       "    .dataframe tbody tr th:only-of-type {\n",
       "        vertical-align: middle;\n",
       "    }\n",
       "\n",
       "    .dataframe tbody tr th {\n",
       "        vertical-align: top;\n",
       "    }\n",
       "\n",
       "    .dataframe thead th {\n",
       "        text-align: right;\n",
       "    }\n",
       "</style>\n",
       "<table border=\"1\" class=\"dataframe\">\n",
       "  <thead>\n",
       "    <tr style=\"text-align: right;\">\n",
       "      <th></th>\n",
       "      <th>Fresh</th>\n",
       "      <th>Milk</th>\n",
       "      <th>Frozen</th>\n",
       "      <th>Delicatessen</th>\n",
       "    </tr>\n",
       "  </thead>\n",
       "  <tbody>\n",
       "    <tr>\n",
       "      <th>0</th>\n",
       "      <td>0.511439</td>\n",
       "      <td>0.982721</td>\n",
       "      <td>-1.552986</td>\n",
       "      <td>0.423084</td>\n",
       "    </tr>\n",
       "    <tr>\n",
       "      <th>1</th>\n",
       "      <td>0.059604</td>\n",
       "      <td>0.997515</td>\n",
       "      <td>0.130574</td>\n",
       "      <td>0.665937</td>\n",
       "    </tr>\n",
       "    <tr>\n",
       "      <th>2</th>\n",
       "      <td>-0.021547</td>\n",
       "      <td>0.896779</td>\n",
       "      <td>0.379009</td>\n",
       "      <td>1.939758</td>\n",
       "    </tr>\n",
       "    <tr>\n",
       "      <th>3</th>\n",
       "      <td>0.546937</td>\n",
       "      <td>-0.970078</td>\n",
       "      <td>1.161103</td>\n",
       "      <td>0.671712</td>\n",
       "    </tr>\n",
       "    <tr>\n",
       "      <th>4</th>\n",
       "      <td>0.958885</td>\n",
       "      <td>0.441058</td>\n",
       "      <td>0.768122</td>\n",
       "      <td>1.584742</td>\n",
       "    </tr>\n",
       "  </tbody>\n",
       "</table>\n",
       "</div>"
      ],
      "text/plain": [
       "      Fresh      Milk    Frozen  Delicatessen\n",
       "0  0.511439  0.982721 -1.552986      0.423084\n",
       "1  0.059604  0.997515  0.130574      0.665937\n",
       "2 -0.021547  0.896779  0.379009      1.939758\n",
       "3  0.546937 -0.970078  1.161103      0.671712\n",
       "4  0.958885  0.441058  0.768122      1.584742"
      ]
     },
     "execution_count": 22,
     "metadata": {},
     "output_type": "execute_result"
    }
   ],
   "source": [
    "# Making data frame from scaled data to check how do they look like after standarization\n",
    "\n",
    "scaled_data = pd.DataFrame(scaled_data, columns = log_data.columns)\n",
    "scaled_data.head()"
   ]
  },
  {
   "cell_type": "markdown",
   "metadata": {},
   "source": [
    "# Building algorithms and model evaluation"
   ]
  },
  {
   "cell_type": "markdown",
   "metadata": {},
   "source": [
    "First I am going to use k-means algorithm. It needs to asses optimal number of centroids using elbow methods."
   ]
  },
  {
   "cell_type": "code",
   "execution_count": 23,
   "metadata": {},
   "outputs": [
    {
     "data": {
      "image/png": "[encoded data removed]",
      "text/plain": [
       "<Figure size 720x360 with 1 Axes>"
      ]
     },
     "metadata": {
      "needs_background": "light"
     },
     "output_type": "display_data"
    }
   ],
   "source": [
    "def elbow(data):\n",
    "    '''Function uses loop and iterates k-means algo searching for optimal number of clusters\n",
    "        and displays on chart relation between number of clusters and sum squared error\n",
    "    '''\n",
    "    SSE = []\n",
    "    for i in range(1,21):\n",
    "        km = KMeans(n_clusters=i, init='random', n_init=10, max_iter=300, random_state=0)\n",
    "        y_km = km.fit_predict(scaled_data)\n",
    "        SSE.append(km.inertia_)\n",
    "    plt.figure(figsize=(10,5))\n",
    "    plt.title('SSE curve')\n",
    "    plt.xlabel('Number of clusters')\n",
    "    plt.ylabel('SSE inertia')\n",
    "    plt.plot(SSE)\n",
    "    plt.plot(SSE, marker='o', color='c')\n",
    "    plt.show()\n",
    "    \n",
    "elbow(scaled_data)"
   ]
  },
  {
   "cell_type": "markdown",
   "metadata": {},
   "source": [
    "The greatest increase of SSE is in 6 cluster. This is an optimal quantity of clusters. I will use KMeans algorithm once again using 6 clusters. To evaluate algorithm I will use silhouette score. This metric ranges from -1 to 1. 1 means that clusres are well apart from each orher."
   ]
  },
  {
   "cell_type": "code",
   "execution_count": 24,
   "metadata": {},
   "outputs": [
    {
     "name": "stdout",
     "output_type": "stream",
     "text": [
      "0.22587635120640828\n"
     ]
    }
   ],
   "source": [
    "def prop_km(data):\n",
    "    '''Function perform k-means algo and print silhouette score\n",
    "    '''\n",
    "    km = KMeans(n_clusters=6, init='random', random_state=0)\n",
    "    y_km = km.fit(scaled_data)\n",
    "    print(silhouette_score(scaled_data, km.labels_))\n",
    "\n",
    "prop_km(scaled_data)"
   ]
  },
  {
   "cell_type": "markdown",
   "metadata": {},
   "source": [
    "I will use K-means algorithm once again but this time I will use KMeans++ instead of random location of clusters."
   ]
  },
  {
   "cell_type": "code",
   "execution_count": 25,
   "metadata": {},
   "outputs": [
    {
     "name": "stdout",
     "output_type": "stream",
     "text": [
      "0.2287507009884967\n"
     ]
    }
   ],
   "source": [
    "def km(data):\n",
    "    '''Function perform k-means algo, print silhouette score and creating new column\n",
    "        in original dataset which is created by k-means prediction\n",
    "    '''\n",
    "    km = KMeans(n_clusters=6, init='k-means++', random_state=0)\n",
    "    y_km = km.fit(scaled_data)\n",
    "    original_data['Clusters'] = km.predict(scaled_data)\n",
    "    print(silhouette_score(scaled_data, km.labels_))\n",
    "    \n",
    "km(scaled_data)"
   ]
  },
  {
   "cell_type": "code",
   "execution_count": 26,
   "metadata": {},
   "outputs": [
    {
     "data": {
      "text/html": [
       "<div>\n",
       "<style scoped>\n",
       "    .dataframe tbody tr th:only-of-type {\n",
       "        vertical-align: middle;\n",
       "    }\n",
       "\n",
       "    .dataframe tbody tr th {\n",
       "        vertical-align: top;\n",
       "    }\n",
       "\n",
       "    .dataframe thead th {\n",
       "        text-align: right;\n",
       "    }\n",
       "</style>\n",
       "<table border=\"1\" class=\"dataframe\">\n",
       "  <thead>\n",
       "    <tr style=\"text-align: right;\">\n",
       "      <th></th>\n",
       "      <th>Fresh</th>\n",
       "      <th>Milk</th>\n",
       "      <th>Frozen</th>\n",
       "      <th>Delicatessen</th>\n",
       "      <th>Clusters</th>\n",
       "    </tr>\n",
       "  </thead>\n",
       "  <tbody>\n",
       "    <tr>\n",
       "      <th>0</th>\n",
       "      <td>12669</td>\n",
       "      <td>9656</td>\n",
       "      <td>214</td>\n",
       "      <td>1338</td>\n",
       "      <td>0</td>\n",
       "    </tr>\n",
       "    <tr>\n",
       "      <th>1</th>\n",
       "      <td>7057</td>\n",
       "      <td>9810</td>\n",
       "      <td>1762</td>\n",
       "      <td>1776</td>\n",
       "      <td>0</td>\n",
       "    </tr>\n",
       "    <tr>\n",
       "      <th>2</th>\n",
       "      <td>6353</td>\n",
       "      <td>8808</td>\n",
       "      <td>2405</td>\n",
       "      <td>7844</td>\n",
       "      <td>0</td>\n",
       "    </tr>\n",
       "    <tr>\n",
       "      <th>3</th>\n",
       "      <td>13265</td>\n",
       "      <td>1196</td>\n",
       "      <td>6404</td>\n",
       "      <td>1788</td>\n",
       "      <td>4</td>\n",
       "    </tr>\n",
       "    <tr>\n",
       "      <th>4</th>\n",
       "      <td>22615</td>\n",
       "      <td>5410</td>\n",
       "      <td>3915</td>\n",
       "      <td>5185</td>\n",
       "      <td>4</td>\n",
       "    </tr>\n",
       "    <tr>\n",
       "      <th>5</th>\n",
       "      <td>9413</td>\n",
       "      <td>8259</td>\n",
       "      <td>666</td>\n",
       "      <td>1451</td>\n",
       "      <td>0</td>\n",
       "    </tr>\n",
       "    <tr>\n",
       "      <th>6</th>\n",
       "      <td>12126</td>\n",
       "      <td>3199</td>\n",
       "      <td>480</td>\n",
       "      <td>545</td>\n",
       "      <td>3</td>\n",
       "    </tr>\n",
       "    <tr>\n",
       "      <th>7</th>\n",
       "      <td>7579</td>\n",
       "      <td>4956</td>\n",
       "      <td>1669</td>\n",
       "      <td>2566</td>\n",
       "      <td>0</td>\n",
       "    </tr>\n",
       "    <tr>\n",
       "      <th>8</th>\n",
       "      <td>5963</td>\n",
       "      <td>3648</td>\n",
       "      <td>425</td>\n",
       "      <td>750</td>\n",
       "      <td>5</td>\n",
       "    </tr>\n",
       "    <tr>\n",
       "      <th>9</th>\n",
       "      <td>6006</td>\n",
       "      <td>11093</td>\n",
       "      <td>1159</td>\n",
       "      <td>2098</td>\n",
       "      <td>0</td>\n",
       "    </tr>\n",
       "  </tbody>\n",
       "</table>\n",
       "</div>"
      ],
      "text/plain": [
       "   Fresh   Milk  Frozen  Delicatessen  Clusters\n",
       "0  12669   9656     214          1338         0\n",
       "1   7057   9810    1762          1776         0\n",
       "2   6353   8808    2405          7844         0\n",
       "3  13265   1196    6404          1788         4\n",
       "4  22615   5410    3915          5185         4\n",
       "5   9413   8259     666          1451         0\n",
       "6  12126   3199     480           545         3\n",
       "7   7579   4956    1669          2566         0\n",
       "8   5963   3648     425           750         5\n",
       "9   6006  11093    1159          2098         0"
      ]
     },
     "execution_count": 26,
     "metadata": {},
     "output_type": "execute_result"
    }
   ],
   "source": [
    "original_data.head(10)"
   ]
  },
  {
   "cell_type": "code",
   "execution_count": 27,
   "metadata": {},
   "outputs": [
    {
     "data": {
      "text/html": [
       "<div>\n",
       "<style scoped>\n",
       "    .dataframe tbody tr th:only-of-type {\n",
       "        vertical-align: middle;\n",
       "    }\n",
       "\n",
       "    .dataframe tbody tr th {\n",
       "        vertical-align: top;\n",
       "    }\n",
       "\n",
       "    .dataframe thead th {\n",
       "        text-align: right;\n",
       "    }\n",
       "</style>\n",
       "<table border=\"1\" class=\"dataframe\">\n",
       "  <thead>\n",
       "    <tr style=\"text-align: right;\">\n",
       "      <th></th>\n",
       "      <th>Fresh</th>\n",
       "      <th>Milk</th>\n",
       "      <th>Frozen</th>\n",
       "      <th>Delicatessen</th>\n",
       "    </tr>\n",
       "    <tr>\n",
       "      <th>Clusters</th>\n",
       "      <th></th>\n",
       "      <th></th>\n",
       "      <th></th>\n",
       "      <th></th>\n",
       "    </tr>\n",
       "  </thead>\n",
       "  <tbody>\n",
       "    <tr>\n",
       "      <th>0</th>\n",
       "      <td>11910.916667</td>\n",
       "      <td>12287.916667</td>\n",
       "      <td>2080.906250</td>\n",
       "      <td>2416.062500</td>\n",
       "    </tr>\n",
       "    <tr>\n",
       "      <th>1</th>\n",
       "      <td>12278.761194</td>\n",
       "      <td>1387.156716</td>\n",
       "      <td>2786.552239</td>\n",
       "      <td>701.440299</td>\n",
       "    </tr>\n",
       "    <tr>\n",
       "      <th>2</th>\n",
       "      <td>873.263158</td>\n",
       "      <td>1525.421053</td>\n",
       "      <td>376.368421</td>\n",
       "      <td>158.526316</td>\n",
       "    </tr>\n",
       "    <tr>\n",
       "      <th>3</th>\n",
       "      <td>9023.913043</td>\n",
       "      <td>5861.130435</td>\n",
       "      <td>1486.586957</td>\n",
       "      <td>203.152174</td>\n",
       "    </tr>\n",
       "    <tr>\n",
       "      <th>4</th>\n",
       "      <td>27387.314286</td>\n",
       "      <td>5195.671429</td>\n",
       "      <td>9194.200000</td>\n",
       "      <td>3220.185714</td>\n",
       "    </tr>\n",
       "    <tr>\n",
       "      <th>5</th>\n",
       "      <td>1900.333333</td>\n",
       "      <td>6967.280000</td>\n",
       "      <td>791.426667</td>\n",
       "      <td>1429.840000</td>\n",
       "    </tr>\n",
       "  </tbody>\n",
       "</table>\n",
       "</div>"
      ],
      "text/plain": [
       "                 Fresh          Milk       Frozen  Delicatessen\n",
       "Clusters                                                       \n",
       "0         11910.916667  12287.916667  2080.906250   2416.062500\n",
       "1         12278.761194   1387.156716  2786.552239    701.440299\n",
       "2           873.263158   1525.421053   376.368421    158.526316\n",
       "3          9023.913043   5861.130435  1486.586957    203.152174\n",
       "4         27387.314286   5195.671429  9194.200000   3220.185714\n",
       "5          1900.333333   6967.280000   791.426667   1429.840000"
      ]
     },
     "execution_count": 27,
     "metadata": {},
     "output_type": "execute_result"
    }
   ],
   "source": [
    "# Grouping data in terms of clusters and counting mean\n",
    "\n",
    "clusters = original_data.groupby(['Clusters']).mean()\n",
    "clusters"
   ]
  },
  {
   "cell_type": "markdown",
   "metadata": {},
   "source": [
    "For better visualization of clusters I will you use PCA algorithm which reduce number of dimensions in my data."
   ]
  },
  {
   "cell_type": "code",
   "execution_count": 28,
   "metadata": {},
   "outputs": [],
   "source": [
    "# Implementing PCA algorithm\n",
    "\n",
    "pca = PCA(n_components=2)\n",
    "pca = pca.fit_transform(scaled_data)     "
   ]
  },
  {
   "cell_type": "code",
   "execution_count": 29,
   "metadata": {},
   "outputs": [],
   "source": [
    "# Creating data frame to display data after reducing dimensions\n",
    "\n",
    "pca_df = pd.DataFrame(pca)"
   ]
  },
  {
   "cell_type": "code",
   "execution_count": 30,
   "metadata": {},
   "outputs": [
    {
     "data": {
      "text/html": [
       "<div>\n",
       "<style scoped>\n",
       "    .dataframe tbody tr th:only-of-type {\n",
       "        vertical-align: middle;\n",
       "    }\n",
       "\n",
       "    .dataframe tbody tr th {\n",
       "        vertical-align: top;\n",
       "    }\n",
       "\n",
       "    .dataframe thead th {\n",
       "        text-align: right;\n",
       "    }\n",
       "</style>\n",
       "<table border=\"1\" class=\"dataframe\">\n",
       "  <thead>\n",
       "    <tr style=\"text-align: right;\">\n",
       "      <th></th>\n",
       "      <th>0</th>\n",
       "      <th>1</th>\n",
       "    </tr>\n",
       "  </thead>\n",
       "  <tbody>\n",
       "    <tr>\n",
       "      <th>0</th>\n",
       "      <td>0.105970</td>\n",
       "      <td>1.305690</td>\n",
       "    </tr>\n",
       "    <tr>\n",
       "      <th>1</th>\n",
       "      <td>-0.721086</td>\n",
       "      <td>0.953386</td>\n",
       "    </tr>\n",
       "    <tr>\n",
       "      <th>2</th>\n",
       "      <td>-1.520108</td>\n",
       "      <td>1.309575</td>\n",
       "    </tr>\n",
       "    <tr>\n",
       "      <th>3</th>\n",
       "      <td>-1.105922</td>\n",
       "      <td>-1.103429</td>\n",
       "    </tr>\n",
       "    <tr>\n",
       "      <th>4</th>\n",
       "      <td>-1.970315</td>\n",
       "      <td>0.329601</td>\n",
       "    </tr>\n",
       "  </tbody>\n",
       "</table>\n",
       "</div>"
      ],
      "text/plain": [
       "          0         1\n",
       "0  0.105970  1.305690\n",
       "1 -0.721086  0.953386\n",
       "2 -1.520108  1.309575\n",
       "3 -1.105922 -1.103429\n",
       "4 -1.970315  0.329601"
      ]
     },
     "execution_count": 30,
     "metadata": {},
     "output_type": "execute_result"
    }
   ],
   "source": [
    "pca_df.head()"
   ]
  },
  {
   "cell_type": "code",
   "execution_count": 31,
   "metadata": {},
   "outputs": [
    {
     "data": {
      "text/html": [
       "<div>\n",
       "<style scoped>\n",
       "    .dataframe tbody tr th:only-of-type {\n",
       "        vertical-align: middle;\n",
       "    }\n",
       "\n",
       "    .dataframe tbody tr th {\n",
       "        vertical-align: top;\n",
       "    }\n",
       "\n",
       "    .dataframe thead th {\n",
       "        text-align: right;\n",
       "    }\n",
       "</style>\n",
       "<table border=\"1\" class=\"dataframe\">\n",
       "  <thead>\n",
       "    <tr style=\"text-align: right;\">\n",
       "      <th></th>\n",
       "      <th>PC1</th>\n",
       "      <th>PC2</th>\n",
       "      <th>Clusters</th>\n",
       "    </tr>\n",
       "  </thead>\n",
       "  <tbody>\n",
       "    <tr>\n",
       "      <th>0</th>\n",
       "      <td>0.105970</td>\n",
       "      <td>1.305690</td>\n",
       "      <td>0</td>\n",
       "    </tr>\n",
       "    <tr>\n",
       "      <th>1</th>\n",
       "      <td>-0.721086</td>\n",
       "      <td>0.953386</td>\n",
       "      <td>0</td>\n",
       "    </tr>\n",
       "    <tr>\n",
       "      <th>2</th>\n",
       "      <td>-1.520108</td>\n",
       "      <td>1.309575</td>\n",
       "      <td>0</td>\n",
       "    </tr>\n",
       "    <tr>\n",
       "      <th>3</th>\n",
       "      <td>-1.105922</td>\n",
       "      <td>-1.103429</td>\n",
       "      <td>4</td>\n",
       "    </tr>\n",
       "    <tr>\n",
       "      <th>4</th>\n",
       "      <td>-1.970315</td>\n",
       "      <td>0.329601</td>\n",
       "      <td>4</td>\n",
       "    </tr>\n",
       "  </tbody>\n",
       "</table>\n",
       "</div>"
      ],
      "text/plain": [
       "        PC1       PC2  Clusters\n",
       "0  0.105970  1.305690         0\n",
       "1 -0.721086  0.953386         0\n",
       "2 -1.520108  1.309575         0\n",
       "3 -1.105922 -1.103429         4\n",
       "4 -1.970315  0.329601         4"
      ]
     },
     "execution_count": 31,
     "metadata": {},
     "output_type": "execute_result"
    }
   ],
   "source": [
    "# Joining data frame with reduced dimensions with 'Clusters' column  \n",
    "\n",
    "pca_df = pd.concat([pca_df, original_data['Clusters']], axis=1)\n",
    "pca_df.columns = ['PC1', 'PC2','Clusters']\n",
    "pca_df.head()"
   ]
  },
  {
   "cell_type": "code",
   "execution_count": 32,
   "metadata": {},
   "outputs": [
    {
     "data": {
      "text/plain": [
       "(440, 3)"
      ]
     },
     "execution_count": 32,
     "metadata": {},
     "output_type": "execute_result"
    }
   ],
   "source": [
    "pca_df.shape"
   ]
  },
  {
   "cell_type": "code",
   "execution_count": 33,
   "metadata": {},
   "outputs": [
    {
     "data": {
      "text/plain": [
       "1    134\n",
       "0     96\n",
       "5     75\n",
       "4     70\n",
       "3     46\n",
       "2     19\n",
       "Name: Clusters, dtype: int64"
      ]
     },
     "execution_count": 33,
     "metadata": {},
     "output_type": "execute_result"
    }
   ],
   "source": [
    "# Display how many elements every cluster contain\n",
    "\n",
    "pca_df.Clusters.value_counts()"
   ]
  },
  {
   "cell_type": "code",
   "execution_count": 34,
   "metadata": {},
   "outputs": [
    {
     "data": {
      "image/png": "[encoded data removed]",
      "text/plain": [
       "<Figure size 720x360 with 1 Axes>"
      ]
     },
     "metadata": {
      "needs_background": "light"
     },
     "output_type": "display_data"
    }
   ],
   "source": [
    "# Visualization of clusters division\n",
    "\n",
    "plt.figure(figsize=(10,5))\n",
    "sns.scatterplot(x='PC1', y='PC2', hue='Clusters', data=pca_df, palette='Set1')\n",
    "plt.show()"
   ]
  },
  {
   "cell_type": "code",
   "execution_count": 35,
   "metadata": {},
   "outputs": [
    {
     "data": {
      "image/png": "[encoded data removed]",
      "text/plain": [
       "<Figure size 432x288 with 1 Axes>"
      ]
     },
     "metadata": {
      "needs_background": "light"
     },
     "output_type": "display_data"
    }
   ],
   "source": [
    "# Charts display clusters division in terms of purchasing products\n",
    "\n",
    "original_data.groupby('Clusters').mean().plot(kind='bar')\n",
    "plt.show()"
   ]
  },
  {
   "cell_type": "markdown",
   "metadata": {},
   "source": [
    "Charts below show how mean of each feature was divided by clusters"
   ]
  },
  {
   "cell_type": "code",
   "execution_count": 36,
   "metadata": {},
   "outputs": [
    {
     "data": {
      "image/png": "[encoded data removed]",
      "text/plain": [
       "<Figure size 432x288 with 1 Axes>"
      ]
     },
     "metadata": {
      "needs_background": "light"
     },
     "output_type": "display_data"
    }
   ],
   "source": [
    "original_data.groupby('Clusters').Fresh.mean().plot(kind='bar')\n",
    "plt.show()"
   ]
  },
  {
   "cell_type": "code",
   "execution_count": 37,
   "metadata": {},
   "outputs": [
    {
     "data": {
      "image/png": "[encoded data removed]",
      "text/plain": [
       "<Figure size 432x288 with 1 Axes>"
      ]
     },
     "metadata": {
      "needs_background": "light"
     },
     "output_type": "display_data"
    }
   ],
   "source": [
    "original_data.groupby('Clusters').Milk.mean().plot(kind='bar')\n",
    "plt.show()"
   ]
  },
  {
   "cell_type": "code",
   "execution_count": 38,
   "metadata": {},
   "outputs": [
    {
     "data": {
      "image/png": "[encoded data removed]",
      "text/plain": [
       "<Figure size 432x288 with 1 Axes>"
      ]
     },
     "metadata": {
      "needs_background": "light"
     },
     "output_type": "display_data"
    }
   ],
   "source": [
    "original_data.groupby('Clusters').Frozen.mean().plot(kind='bar')\n",
    "plt.show()"
   ]
  },
  {
   "cell_type": "code",
   "execution_count": 39,
   "metadata": {},
   "outputs": [
    {
     "data": {
      "image/png": "[encoded data removed]",
      "text/plain": [
       "<Figure size 432x288 with 1 Axes>"
      ]
     },
     "metadata": {
      "needs_background": "light"
     },
     "output_type": "display_data"
    }
   ],
   "source": [
    "original_data.groupby('Clusters').Delicatessen.mean().plot(kind='bar')\n",
    "plt.show()"
   ]
  },
  {
   "cell_type": "markdown",
   "metadata": {},
   "source": [
    "Second algorithm I would like to test is hierarchical clustering"
   ]
  },
  {
   "cell_type": "code",
   "execution_count": 40,
   "metadata": {},
   "outputs": [
    {
     "data": {
      "text/html": [
       "<div>\n",
       "<style scoped>\n",
       "    .dataframe tbody tr th:only-of-type {\n",
       "        vertical-align: middle;\n",
       "    }\n",
       "\n",
       "    .dataframe tbody tr th {\n",
       "        vertical-align: top;\n",
       "    }\n",
       "\n",
       "    .dataframe thead th {\n",
       "        text-align: right;\n",
       "    }\n",
       "</style>\n",
       "<table border=\"1\" class=\"dataframe\">\n",
       "  <thead>\n",
       "    <tr style=\"text-align: right;\">\n",
       "      <th></th>\n",
       "      <th>0</th>\n",
       "      <th>1</th>\n",
       "      <th>2</th>\n",
       "      <th>3</th>\n",
       "      <th>4</th>\n",
       "      <th>5</th>\n",
       "      <th>6</th>\n",
       "      <th>7</th>\n",
       "      <th>8</th>\n",
       "      <th>9</th>\n",
       "      <th>...</th>\n",
       "      <th>430</th>\n",
       "      <th>431</th>\n",
       "      <th>432</th>\n",
       "      <th>433</th>\n",
       "      <th>434</th>\n",
       "      <th>435</th>\n",
       "      <th>436</th>\n",
       "      <th>437</th>\n",
       "      <th>438</th>\n",
       "      <th>439</th>\n",
       "    </tr>\n",
       "  </thead>\n",
       "  <tbody>\n",
       "    <tr>\n",
       "      <th>0</th>\n",
       "      <td>0.000000</td>\n",
       "      <td>1.760036</td>\n",
       "      <td>2.514829</td>\n",
       "      <td>3.353025</td>\n",
       "      <td>2.688978</td>\n",
       "      <td>0.949089</td>\n",
       "      <td>1.441331</td>\n",
       "      <td>1.883766</td>\n",
       "      <td>1.309024</td>\n",
       "      <td>1.522412</td>\n",
       "      <td>...</td>\n",
       "      <td>1.595300</td>\n",
       "      <td>3.365495</td>\n",
       "      <td>2.281045</td>\n",
       "      <td>2.365911</td>\n",
       "      <td>1.336587</td>\n",
       "      <td>3.386488</td>\n",
       "      <td>3.178815</td>\n",
       "      <td>0.782980</td>\n",
       "      <td>1.991635</td>\n",
       "      <td>3.541827</td>\n",
       "    </tr>\n",
       "    <tr>\n",
       "      <th>1</th>\n",
       "      <td>1.760036</td>\n",
       "      <td>0.000000</td>\n",
       "      <td>1.304252</td>\n",
       "      <td>2.273970</td>\n",
       "      <td>1.539163</td>\n",
       "      <td>0.842049</td>\n",
       "      <td>1.837706</td>\n",
       "      <td>0.715586</td>\n",
       "      <td>1.645779</td>\n",
       "      <td>0.401284</td>\n",
       "      <td>...</td>\n",
       "      <td>1.356873</td>\n",
       "      <td>1.725065</td>\n",
       "      <td>2.934133</td>\n",
       "      <td>1.445550</td>\n",
       "      <td>1.469006</td>\n",
       "      <td>1.968848</td>\n",
       "      <td>2.369454</td>\n",
       "      <td>1.317154</td>\n",
       "      <td>1.588841</td>\n",
       "      <td>4.354237</td>\n",
       "    </tr>\n",
       "    <tr>\n",
       "      <th>2</th>\n",
       "      <td>2.514829</td>\n",
       "      <td>1.304252</td>\n",
       "      <td>0.000000</td>\n",
       "      <td>2.455186</td>\n",
       "      <td>1.202653</td>\n",
       "      <td>1.800390</td>\n",
       "      <td>2.834066</td>\n",
       "      <td>1.144992</td>\n",
       "      <td>2.578732</td>\n",
       "      <td>1.291210</td>\n",
       "      <td>...</td>\n",
       "      <td>1.838375</td>\n",
       "      <td>2.038704</td>\n",
       "      <td>3.751760</td>\n",
       "      <td>1.979727</td>\n",
       "      <td>2.410118</td>\n",
       "      <td>2.127800</td>\n",
       "      <td>2.487307</td>\n",
       "      <td>2.014090</td>\n",
       "      <td>1.946635</td>\n",
       "      <td>5.403980</td>\n",
       "    </tr>\n",
       "    <tr>\n",
       "      <th>3</th>\n",
       "      <td>3.353025</td>\n",
       "      <td>2.273970</td>\n",
       "      <td>2.455186</td>\n",
       "      <td>0.000000</td>\n",
       "      <td>1.774560</td>\n",
       "      <td>2.575516</td>\n",
       "      <td>2.483910</td>\n",
       "      <td>1.789592</td>\n",
       "      <td>2.591488</td>\n",
       "      <td>2.567755</td>\n",
       "      <td>...</td>\n",
       "      <td>2.525549</td>\n",
       "      <td>1.590839</td>\n",
       "      <td>2.866099</td>\n",
       "      <td>2.082734</td>\n",
       "      <td>2.204830</td>\n",
       "      <td>2.326836</td>\n",
       "      <td>0.928318</td>\n",
       "      <td>3.215086</td>\n",
       "      <td>1.547406</td>\n",
       "      <td>4.868347</td>\n",
       "    </tr>\n",
       "    <tr>\n",
       "      <th>4</th>\n",
       "      <td>2.688978</td>\n",
       "      <td>1.539163</td>\n",
       "      <td>1.202653</td>\n",
       "      <td>1.774560</td>\n",
       "      <td>0.000000</td>\n",
       "      <td>1.951430</td>\n",
       "      <td>2.648424</td>\n",
       "      <td>1.243703</td>\n",
       "      <td>2.662472</td>\n",
       "      <td>1.745243</td>\n",
       "      <td>...</td>\n",
       "      <td>2.317304</td>\n",
       "      <td>1.635861</td>\n",
       "      <td>3.393944</td>\n",
       "      <td>2.349386</td>\n",
       "      <td>2.124935</td>\n",
       "      <td>1.441417</td>\n",
       "      <td>1.483998</td>\n",
       "      <td>2.217424</td>\n",
       "      <td>1.720769</td>\n",
       "      <td>5.443376</td>\n",
       "    </tr>\n",
       "  </tbody>\n",
       "</table>\n",
       "<p>5 rows × 440 columns</p>\n",
       "</div>"
      ],
      "text/plain": [
       "        0         1         2         3         4         5         6    \\\n",
       "0  0.000000  1.760036  2.514829  3.353025  2.688978  0.949089  1.441331   \n",
       "1  1.760036  0.000000  1.304252  2.273970  1.539163  0.842049  1.837706   \n",
       "2  2.514829  1.304252  0.000000  2.455186  1.202653  1.800390  2.834066   \n",
       "3  3.353025  2.273970  2.455186  0.000000  1.774560  2.575516  2.483910   \n",
       "4  2.688978  1.539163  1.202653  1.774560  0.000000  1.951430  2.648424   \n",
       "\n",
       "        7         8         9    ...       430       431       432       433  \\\n",
       "0  1.883766  1.309024  1.522412  ...  1.595300  3.365495  2.281045  2.365911   \n",
       "1  0.715586  1.645779  0.401284  ...  1.356873  1.725065  2.934133  1.445550   \n",
       "2  1.144992  2.578732  1.291210  ...  1.838375  2.038704  3.751760  1.979727   \n",
       "3  1.789592  2.591488  2.567755  ...  2.525549  1.590839  2.866099  2.082734   \n",
       "4  1.243703  2.662472  1.745243  ...  2.317304  1.635861  3.393944  2.349386   \n",
       "\n",
       "        434       435       436       437       438       439  \n",
       "0  1.336587  3.386488  3.178815  0.782980  1.991635  3.541827  \n",
       "1  1.469006  1.968848  2.369454  1.317154  1.588841  4.354237  \n",
       "2  2.410118  2.127800  2.487307  2.014090  1.946635  5.403980  \n",
       "3  2.204830  2.326836  0.928318  3.215086  1.547406  4.868347  \n",
       "4  2.124935  1.441417  1.483998  2.217424  1.720769  5.443376  \n",
       "\n",
       "[5 rows x 440 columns]"
      ]
     },
     "execution_count": 40,
     "metadata": {},
     "output_type": "execute_result"
    }
   ],
   "source": [
    "# First I compute distance matrix using pdist function, next I create symmetrical matrix using squareform function\n",
    "# Finally I make data frame\n",
    "\n",
    "dist = pd.DataFrame(squareform(pdist(scaled_data, metric='euclidean')))\n",
    "dist.head()"
   ]
  },
  {
   "cell_type": "code",
   "execution_count": 41,
   "metadata": {},
   "outputs": [
    {
     "data": {
      "text/plain": [
       "array([[3.20000000e+01, 4.32000000e+02, 1.21485504e-01, 2.00000000e+00],\n",
       "       [1.50000000e+01, 1.33000000e+02, 1.21607994e-01, 2.00000000e+00],\n",
       "       [1.14000000e+02, 1.20000000e+02, 1.47676664e-01, 2.00000000e+00],\n",
       "       ...,\n",
       "       [8.49000000e+02, 8.73000000e+02, 6.69446714e+00, 1.52000000e+02],\n",
       "       [8.74000000e+02, 8.76000000e+02, 6.74034757e+00, 2.96000000e+02],\n",
       "       [8.75000000e+02, 8.77000000e+02, 9.42309976e+00, 4.40000000e+02]])"
      ]
     },
     "execution_count": 41,
     "metadata": {},
     "output_type": "execute_result"
    }
   ],
   "source": [
    "# Using complete linkage agglomeration algorithm which contains linkage matrix\n",
    "\n",
    "clust = linkage(pdist(scaled_data, metric='euclidean'), method='complete')\n",
    "clust"
   ]
  },
  {
   "cell_type": "code",
   "execution_count": 42,
   "metadata": {},
   "outputs": [
    {
     "data": {
      "image/png": "[encoded data removed]",
      "text/plain": [
       "<Figure size 720x360 with 1 Axes>"
      ]
     },
     "metadata": {
      "needs_background": "light"
     },
     "output_type": "display_data"
    }
   ],
   "source": [
    "# We can visualize output using dendrogram\n",
    "\n",
    "plt.figure(figsize=(10,5))\n",
    "dendr = dendrogram(clust)\n",
    "plt.xlabel('Hierarchical Clustering')\n",
    "plt.ylabel('Distance')\n",
    "plt.title('Cluster dendrogram')\n",
    "plt.show()"
   ]
  },
  {
   "cell_type": "code",
   "execution_count": null,
   "metadata": {},
   "outputs": [],
   "source": []
  }
 ],
 "metadata": {
  "kernelspec": {
   "display_name": "Python 3",
   "language": "python",
   "name": "python3"
  },
  "language_info": {
   "codemirror_mode": {
    "name": "ipython",
    "version": 3
   },
   "file_extension": ".py",
   "mimetype": "text/x-python",
   "name": "python",
   "nbconvert_exporter": "python",
   "pygments_lexer": "ipython3",
   "version": "3.8.5"
  }
 },
 "nbformat": 4,
 "nbformat_minor": 4
}
